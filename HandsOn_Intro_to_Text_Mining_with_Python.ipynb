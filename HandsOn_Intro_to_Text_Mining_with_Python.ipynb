{
  "cells": [
    {
      "cell_type": "markdown",
      "metadata": {
        "id": "view-in-github",
        "colab_type": "text"
      },
      "source": [
        "<a href=\"https://colab.research.google.com/github/mggebara/Test/blob/master/HandsOn_Intro_to_Text_Mining_with_Python.ipynb\" target=\"_parent\"><img src=\"https://colab.research.google.com/assets/colab-badge.svg\" alt=\"Open In Colab\"/></a>"
      ]
    },
    {
      "cell_type": "markdown",
      "metadata": {
        "id": "rqRzv147AgC-"
      },
      "source": [
        "# Intro to Text Mining with Python\n",
        "This workshop we will be using the NLTK library to walk you through some basic steps of a text mining project. NLTK is one of the most popular libraries used to work with human language data.\n",
        "\n",
        "\"Text mining, also referred to as text analysis, is the process of obtaining meaningful information from large collections of unstructured data. By automatically identifying patterns, topics, and relevant keywords, text mining uncovers relevant insights that can help you answer specific questions.\" -monkeylearn.com\n",
        "\n",
        "Some basic steps of text mining we are going to demonstrate include:\n",
        "\n",
        "       -Parsing\n",
        "       -Comparison Methods\n",
        "       -String Operations\n",
        "\n",
        "These basic steps can utilized later on in:\n",
        "\n",
        "       -Complex Parsing\n",
        "       -Text Mining Techniques:\n",
        "          -Information Extraction\n",
        "          -Information Retrieval\n",
        "          -Categorization\n",
        "          -Clustering\n",
        "          -Summarization"
      ]
    },
    {
      "cell_type": "code",
      "execution_count": 1,
      "metadata": {
        "id": "EZk46GfSHNWZ"
      },
      "outputs": [],
      "source": [
        "#Note: If you are using Jupyter Notebooks instead of Google Colab to run this file and code, you will need to install different libraries in your command prompt (e.g. pip install)\n",
        "\n",
        "from pathlib import Path #provides an object api for working with files and directories\n",
        "import pandas as pd #library used for data science and machine learning\n",
        "import os #provides functions for interacting with operating systems\n",
        "import glob #used to return all file paths that match a specific pattern\n",
        "import sys #provides functions and variables used to manipulate different part of the Python runtime environment"
      ]
    },
    {
      "cell_type": "markdown",
      "metadata": {
        "id": "v8tYhlKkHSVg"
      },
      "source": [
        "### Import files\n",
        "\n",
        "In order to import a folder of files, we use the os.chdir function to first navigate to the right directory.\n",
        "\n",
        "Then we use glob.glob function to iterate through all files."
      ]
    },
    {
      "cell_type": "code",
      "execution_count": 3,
      "metadata": {
        "id": "Mah_JBzPHOOo"
      },
      "outputs": [],
      "source": [
        "my_dir = \"Sample_data\"\n",
        "os.chdir(my_dir)   #change the current working directory to specified path. "
      ]
    },
    {
      "cell_type": "code",
      "execution_count": 9,
      "metadata": {
        "id": "mJA1yMecHaIX",
        "outputId": "ef8d6f39-f160-492e-b189-ff9cd2df811b",
        "colab": {
          "base_uri": "https://localhost:8080/"
        }
      },
      "outputs": [
        {
          "output_type": "stream",
          "name": "stdout",
          "text": [
            "files  0_2.txt\n",
            "Empty DataFrame\n",
            "Columns: [Once again Mr. Costner has dragged out a movie for far longer than necessary. Aside from the terrific sea rescue sequences,  of which there are very few I just did not care about any of the characters. Most of us have ghosts in the closet,  and Costner's character are realized early on,  and then forgotten until much later,  by which time I did not care. The character we should really care about is a very cocky,  overconfident Ashton Kutcher. The problem is he comes off as kid who thinks he's better than anyone else around him and shows no signs of a cluttered closet. His only obstacle appears to be winning over Costner. Finally when we are well past the half way point of this stinker,  Costner tells us all about Kutcher's ghosts. We are told why Kutcher is driven to be the best with no prior inkling or foreshadowing. No magic here,  it was all I could do to keep from turning it off an hour in.]\n",
            "Index: []\n",
            "files  5_4.txt\n",
            "Empty DataFrame\n",
            "Columns: [I wish I knew what to make of a movie like this. It seems to be divided into two parts -- action sequences and personal dramas ashore. It follows Ashton Kutsher through survival swimmer school,  guided by Master Chief Kevin Costner,  then to Alaska where a couple of spectacular rescues take place,  the last resulting in death.<br /><br />I must say that the scenes on the beach struck me as so stereotypical in so many ways that they should be barnacle encrusted. A typical bar room fight between Navy guys and Coast Guardsmen (\"puddle pirates\"). The experienced old timer Costner who is,  as an elderly bar tender tells him,  \"married to the Coast Guard.\" The older chief who \"keeps trying to prove to himself that he's still nineteen.\" The neglected ex wife ashore to whom Kostner pays a farewell visit. The seemingly sadistic demands placed on the swimmers by the instructors,  all in pursuit of a loftier goal. The gifted young man hobbled by a troubled past.<br /><br />The problem is that we've seen it all before. If it's Kevin Costner here,  it's Clint Eastwood or John Wayne or Lou Gosset Jr. or Vigo Mortenson or Robert DeNiro elsewhere. And the climactic scene has elements drawn shamelessly from \"The Perfect Storm\" and \"Dead Calm.\" None of it is fresh and none of the old stereotyped characters and situations are handled with any originality.<br /><br />It works best as a kind of documentary of what goes on in the swimmer's school and what could happen afterward and even that's a little weak because we don't get much in the way of instruction. It's mostly personal conflict,  romance,  and tension about washing out.<br /><br />It's a shame because the U. S. Coast Guard is rather a noble outfit,  its official mission being \"the safety of lives and property at sea.\" In war time it is transferred to the Navy Department and serves in combat roles. In World War II,  the Coast Guard even managed to have a Medal of Honor winner in its ranks.<br /><br />But,  again,  we don't learn much about that. We don't really learn much about anything. The film devolves into a succession of visual displays and not too much else. A disappointment.]\n",
            "Index: []\n",
            "files  8_2.txt\n",
            "Empty DataFrame\n",
            "Columns: [I'm not a big fan of musicals,  although this technically might not qualify as a musical. But I thought I would give it a chance as I love war movies. It was mediocre at best.<br /><br />Hudson seems totally out of kilter in this role. It just didn't work for me. Julie Andrews probably played her part as best as she could,  but I just find it hard to buy her as a conniving,  deceptive spy. Sorry,  I know that is classic stereotyping on my part. But I have to say I think this is Julie at her most beautiful and feminine looking. I always thought of her as more matronly,  but then surely that's a result of her roles in Sound of Music and Mary Poppins. No doubt they were desperately trying to get her out of that typecasting in this role. She was quite beguiling in appearance here,  but I still didn't buy her as a spy.<br /><br />I couldn't keep my focus through the whole movie and found myself tuning in and out - and having conversations with those in my room (which I usually never do - I'm always shushing everybody). So that tells you how little it held my attention. Don't waste your time!]\n",
            "Index: []\n",
            "files  1_10.txt\n",
            "Empty DataFrame\n",
            "Columns: [My boyfriend and I went to watch The Guardian.At first I didn't want to watch it,  but I loved the movie- It was definitely the best movie I have seen in sometime.They portrayed the USCG very well,  it really showed me what they do and I think they should really be appreciated more.Not only did it teach but it was a really good movie. The movie shows what the really do and how hard the job is.I think being a USCG would be challenging and very scary. It was a great movie all around. I would suggest this movie for anyone to see.The ending broke my heart but I know why he did it. The storyline was great I give it 2 thumbs up. I cried it was very emotional,  I would give it a 20 if I could!]\n",
            "Index: []\n",
            "files  6_3.txt\n",
            "Empty DataFrame\n",
            "Columns: [A tough sell: British playwright Ronald Harwood adapts his autobiographical stage drama into loud,  bellowing film about WWII Shakespearean theatrical troupe saddled with an aged,  blustery,  brilliant-but-unreliable star at the end of his tether. The actor's effete assistant works diligently to get his master coiffed and costumed for a production of \"King Lear\" (during an Air Raid!),  yet both men are losing their grip on their unraveling situation. Based on the waning years of actor Donald Wolfit,  whose dresser was Ronald Harwood,  this acclaimed production would seem to be a welcome haven for scenery-chewing thespians. Unfortunately,  Albert Finney (at this point in his career,  not at all elderly) seems too robust and quick-thinking to play the actor; Finney (and Oscar-nominated director Peter Yates) cannot modulate Sir's moods and bouts of coherency in a way that makes sense to us,  so that in one scene he's stopping a train with the commanding echo of his voice,  and in the next he's curiously falling apart. With such a wreck of a human being in the midst of failing health and aptitude,  one would assume a dedicated assistant would go to great lengths to protect his boss (and his future),  yet servant Tom Courtenay prods and badgers and goads Finney to carry on rather than rest. Courtenay,  who played this part on stage (and was nominated for an Oscar alongside Finney for Best Actor),  is far more attuned to his role,  and eventually his bleating commands and confusion achieve the only real feeling in the film. These two,  thankfully,  do not peck at each other's heads,  and scenarist Harwood is careful not to fall into a love-hate pattern (which could possibly be perceived in the film's first act); but,  without a juxtaposition of servant vs. celebrity,  there's nothing much to behold in this portrait except for the deterioration of narcissism,  the hint at what once was. *1/2 from ****]\n",
            "Index: []\n",
            "\n",
            "[0 rows x 22 columns]\n",
            "files  9_7.txt\n",
            "Empty DataFrame\n",
            "Columns: [I've seen this story before but my kids haven't. Boy with troubled past joins military,  faces his past,  falls in love and becomes a man. The mentor this time is played perfectly by Kevin Costner; An ordinary man with common everyday problems who lives an extraordinary conviction,  to save lives. After losing his team he takes a teaching position training the next generation of heroes. The young troubled recruit is played by Kutcher. While his scenes with the local love interest are a tad stiff and don't generate enough heat to melt butter,  he compliments Costner well. I never really understood Sela Ward as the neglected wife and felt she should of wanted Costner to quit out of concern for his safety as opposed to her selfish needs. But her presence on screen is a pleasure. The two unaccredited stars of this movie are the Coast Guard and the Sea. Both powerful forces which should not be taken for granted in real life or this movie. The movie has some slow spots and could have used the wasted 15 minutes to strengthen the character relationships. But it still works. The rescue scenes are intense and well filmed and edited to provide maximum impact. This movie earns the audience applause. And the applause of my two sons.]\n",
            "Index: []\n",
            "files  1_3.txt\n",
            "Empty DataFrame\n",
            "Columns: [This is a pale imitation of 'Officer and a Gentleman.' There is NO chemistry between Kutcher and the unknown woman who plays his love interest. The dialog is wooden,  the situations hackneyed. It's too long and the climax is anti-climactic(!). I love the USCG,  its men and women are fearless and tough. The action scenes are awesome,  but this movie doesn't do much for recruiting,  I fear. The script is formulaic,  but confusing. Kutcher's character is trying to redeem himself for an accident that wasn't his fault? Costner's is raging against the dying of the light,  but why? His 'conflict' with his wife is about as deep as a mud puddle. I saw this sneak preview for free and certainly felt I got my money's worth.]\n",
            "Index: []\n",
            "files  7_1.txt\n",
            "Empty DataFrame\n",
            "Columns: [Blake Edwards' legendary fiasco,  begins to seem pointless after just 10 minutes. A combination of The Eagle Has Landed,  Star!,  Oh! What a Lovely War!,  and Edwards' Pink Panther films,  Darling Lili never engages the viewer; the aerial sequences,  the musical numbers,  the romance,  the comedy,  and the espionage are all ho hum. At what point is the viewer supposed to give a damn? This disaster wavers in tone,  never decides what it wants to be,  and apparently thinks it's a spoof,  but it's pathetically and grindingly square. Old fashioned in the worst sense,  audiences understandably stayed away in droves. It's awful. James Garner would have been a vast improvement over Hudson who is just cardboard,  and he doesn't connect with Andrews and vice versa. And both Andrews and Hudson don't seem to have been let in on the joke and perform with a miscalculated earnestness. Blake Edwards' SOB isn't much more than OK,  but it's the only good that ever came out of Darling Lili. The expensive and professional look of much of Darling Lili,  only make what it's all lavished on even more difficult to bear. To quote Paramount chief Robert Evans,  \"24 million dollars worth of film and no picture\".]\n",
            "Index: []\n",
            "files  7_9.txt\n",
            "Empty DataFrame\n",
            "Columns: [Our family (and the entire sold out sneak preview audience) enjoyed \"The Guardian\". Kevin Costner and Ashton Kutcher gave convincing performances as the fictional helicopter rescue swimmer characters Ben and Jake. After seeing this movie,  you can't help but imagine how difficult it must be to graduate from the USCG helicopter rescue swimmer school and one day take part in real rescues.<br /><br />Even though this is a fictional movie,  it delivered rather convincing virtues of team spirit,  dedication and bravery exhibited by all the members of the actual U. S. Coast Guard.<br /><br />The special effects used to create the rescue scenes were incredible. You actually felt like you were taking part in a real rescue.<br /><br />I feel the movie could have been made without the \"Hollywood\" bar scene (when you see the movie,  you might agree) since the real Coast Guard does not condone such behavior. <br /><br />Very entertaining,  very action packed,  definitely worth seeing. Thank you,  U. S. Coast Guard and the REAL helicopter rescue swimmers,  \"So Others May Live\". I'd highly recommend this movie to everyone.]\n",
            "Index: []\n",
            "files  8_9.txt\n",
            "Empty DataFrame\n",
            "Columns: [I'm a Petty Officer 1st Class (E-6) and have been in the USCG for 6 years and feel that this movie strongly represents the Coast Guard. There were only a few scenes that were far fetched. The most far-fetched was when PO Fischer (Kutcher) went down inside of the sinking vessel to pull the vessel's captain out of the engine room... that would never happen. Swimmers are not allowed to go inside of any vessel no matter the circumstances. Second,  the Command Center (supposedly in Kodiak),  it looked more like a NASA command center... we don't have any gear that hi-tech. Third,  the Captain of the Airstation would not be running the search & rescue cases with like 10 people on watch. In reality it would be an E-6 or E-7 as the SAR Controller and maybe 2 other support personnel like an assist SAR Controller & a Radio Watchstander. Otherwise the movie was dead on,  I think they should have incorporated more of the other rates in the CG and their roles in search & rescue instead of just Aviation based rates. Some of the scenes from \"A\" school reminded me of my days their and the dumb stuff I did and got in trouble for in my younger days.]\n",
            "Index: []\n",
            "files  2_3.txt\n",
            "Empty DataFrame\n",
            "Columns: [It seems ever since 1982,  about every two or three years we get a movie that claims to be \"The Next Officer and a Gentleman.\" There has yet to be one movie that has lived up to this claim and this movie is no different.<br /><br />We get the usual ripped off scenes from OAAG (\"I want you DOR,  the instructor gives the Richard Gere character his overdose of drills in hopes he'll quit, the Gere character comes back for the girl, the Gere character realizes the instructor is great, etc.) and this movie is as predictable as the sun rising in the East and is horribly miscast on top. Costner plays his usual wise teacher\" character,  the only character he can play,  and you really get a sense of his limited acting abilities here. Kutcher is terrible in the Richard Gere character,  just miscast with acting skills barely a notch above Keanu Reeves.<br /><br />The main problem with this OAAG wannabe is the two main characters are so amazingly one-dimensional,  you never care for either in the least and when Kutcher's character finally turns around (just like Gere did in OAAG) you just go \"so what? The movie leaves no plot point unturned and seems to never end as if to say \"oh wait,  we forgot to close out the girlfriend story,  or the what happens after he graduates story,  or the other six plot points in the movie...\" What's more baffling is the great \"reviews\" I see here. The general public's opinions never cease to amaze me.]\n",
            "Index: []\n",
            "files  6_7.txt\n",
            "Empty DataFrame\n",
            "Columns: [I was fortunate enough to see this movie on pre-release last night and,  though I wasn't expecting to,  actually really enjoyed the movie for the most part. The rescues and sea effects were amazing to watch and definitely provided edge of the seat tense moments,  probably all the more so knowing that there are guys who do this for a living. The weaker parts of the movie revolve largely around using stereotypical set scenes. I'm not going to spoil the movie but this really follows along the lines of An Officer and a Gentleman and those moments give it a little bit of a cheesy aftertaste.<br /><br />Like I said over all this movie is pretty good and worth checking out as long as you can get past the clichés.]\n",
            "Index: []\n",
            "files  4_4.txt\n",
            "Empty DataFrame\n",
            "Columns: [Alas,  another Costner movie that was an hour too long. Credible performances,  but the script had no where to go and was in no hurry to get there. First we are offered an unrelated string of events few of which further the story. Will the script center on Randall and his wife? Randall and Fischer? How about Fischer and Thomas? In the end,  no real front story ever develops and the characters themselves are artificially propped up by monologues from third parties. The singer explains Randall,  Randall explains Fischer,  on and on. Finally,  long after you don't care anymore,  you will learn something about the script meetings. Three endings were no doubt proffered and no one could make a decision. The end result? All three were used,  one,  after another,  after another. If you can hang in past the 100th yawn,  you'll be able to pick them out. Despite the transparent attempt to gain points with a dedication to the Coast Guard,  this one should have washed out the very first day.]\n",
            "Index: []\n",
            "files  5_7.txt\n",
            "Empty DataFrame\n",
            "Columns: [I only went to see this movie because I have always liked Kevin Costner. I felt that Ashton did a great job in the Butterfly Effect. Unfortunately,  even though these two actors were/are capable of good if not great acting moments some of that was missing here. Some of the scenes were just not believable and didn't have enough story line support.<br /><br />Though the movie claims influence from the hurricane Katrina aftermath,  there was very little (none) to that effect in the movie.<br /><br />Overall,  I liked the fact that the movie brought forward some of what goes into saving lives from a water perspective.<br /><br />The special effects were pretty good and more than a little intimidating. Not sure I'll ever go deep sea fishing again...<br /><br />I expected a little more emotion in the film than what was presented.<br /><br />Definitely a movie that could've been seen on DVD.]\n",
            "Index: []\n",
            "files  9_4.txt\n",
            "Empty DataFrame\n",
            "Columns: [David Bryce's comments nearby are exceptionally well written and informative as almost say everything I feel about DARLING LILI. This massive musical is so peculiar and over blown,  over produced and must have caused ruptures at Paramount in 1970. It cost 22 million dollars! That is simply irresponsible. DARLING LILI must have been greenlit from a board meeting that said \"hey we got that Pink Panther guy and that Sound Of Music gal... lets get this too\" and handed over a blank cheque. The result is a hybrid of GIGI,  ZEPPELIN,  HALF A SIXPENCE,  some MGM 40s song and dance numbers of a style (daisies and boaters!) so hopelessly old fashioned as to be like musical porridge,  and MATA HARI dramatics. The production is colossal,  lush,  breathtaking to view,  but the rest: the ridiculous romance,  Julie looking befuddled,  Hudson already dead,  the mistimed comedy,  and the astoundingly boring songs deaden this spectacular film into being irritating. LILI is like a twee 1940s mega musical with some vulgar bits to spice it up. STAR! released the year before sadly crashed and now is being finally appreciated for the excellent film is genuinely is... and Andrews looks sublime,  mature,  especially in the last half hour......but LILI is POPPINS and DOLLY frilly and I believe really killed off the mega musical binge of the 60s..... and made Andrews look like Poppins again... which I believe was not Edwards intention. Paramount must have collectively fainted when they saw this: and with another $20 million festering in CATCH 22,  and $12 million in ON A CLEAR DAY and $25 million in PAINT YOUR WAGON....they had a financial abyss of CLEOPATRA proportions with $77 million tied into 4 films with very uncertain futures. Maybe they should have asked seer Daisy Gamble from ON A CLEAR DAY ......LILI was very popular on immediate first release in Australia and ran in 70mm cinemas for months but it failed once out in the subs and the sticks and only ever surfaced after that on one night stands with ON A CLEAR DAY as a Sunday night double. Thank god Paramount had their simple $1million (yes,  ONE MILLION DOLLAR) film LOVE STORY and that $4 million dollar gangster pic THE GODFATHER also ready to recover all the $77 million in just the next two years....for just $5m.... incredible!]\n",
            "Index: []\n",
            "files  4_10.txt\n",
            "Empty DataFrame\n",
            "Columns: [This movie was sadly under-promoted but proved to be truly exceptional. Entering the theatre I knew nothing about the film except that a friend wanted to see it.<br /><br />I was caught off guard with the high quality of the film. I couldn't image Ashton Kutcher in a serious role,  but his performance truly exemplified his character. This movie is exceptional and deserves our monetary support,  unlike so many other movies. It does not come lightly for me to recommend any movie,  but in this case I highly recommend that everyone see it.<br /><br />This films is Truly Exceptional!]\n",
            "Index: []\n",
            "files  3_4.txt\n",
            "Empty DataFrame\n",
            "Columns: [Wow,  another Kevin Costner hero movie. Postman,  Tin Cup,  Waterworld,  Bodyguard,  Wyatt Earp,  Robin Hood,  even that baseball movie. Seems like he makes movies specifically to be the center of attention. The characters are almost always the same ... the heroics,  the flaws,  the greatness,  the fall,  the redemption. Yup,  within the 1st 5 minutes of the movie,  we're all supposed to be in awe of his character,  and it builds up more and more from there.<br /><br />And this time the story ... story? ... is just a collage of different movies. You don't need a spoiler; you've seen this movie several times,  though it had different titles. You'll know what will happen way before it happens. This is like mixing An Officer and a Gentleman with Backdraft,  but both are easily better movies. Watch Backdraft to see how this kind of movie should be made ... and also to see how an good but slightly underrated actor,  Russell,  plays the hero.]\n",
            "Index: []\n",
            "files  3_7.txt\n",
            "Empty DataFrame\n",
            "Columns: [How many movies are there that you can think of when you see a movie like this? I can't count them but it sure seemed like the movie makers were trying to give me a hint. I was reminded so often of other movies,  it became a big distraction. One of the borrowed memorable lines came from a movie from 2003 - Day After Tomorrow. One line by itself,  is not so bad but this movie borrows so much from so many movies it becomes a bad risk.<br /><br />BUT...<br /><br />See The Movie! Despite its downfalls there is enough to make it interesting and maybe make it appear clever. While borrowing so much from other movies it never goes overboard. In fact,  you'll probably find yourself battening down the hatches and riding the storm out. Why? ...Costner and Kutcher played their characters very well. I have never been a fan of Kutcher's and I nearly gave up on him in The Guardian,  but he surfaced in good fashion. Costner carries the movie swimmingly with the best of Costner's ability. I don't think Mrs. Robinson had anything to do with his success.<br /><br />The supporting cast all around played their parts well. I had no problem with any of them in the end. But some of these characters were used too much.<br /><br />From here on out I can only nit-pick so I will save you the wear and tear. Enjoy the movie,  the parts that work,  work well enough to keep your head above water. Just don't expect a smooth ride.<br /><br />7 of 10 but almost a 6.]\n",
            "Index: []\n",
            "files  2_7.txt\n",
            "Empty DataFrame\n",
            "Columns: [My yardstick for measuring a movie's watch-ability is if I get squirmy. If I start shifting positions and noticing my butt is sore,  the film is too long. This movie did not even come close to being boring. Predictable in some parts sure,  but never boring.<br /><br />All of the other military branches have had love notes written about them and seen their recruitment levels go up,  why not the Coast Guard too? They are definitely under-appreciated,  until the day your boat sinks that is.<br /><br />The movie was very enjoyable and fun. Kevin Costner is perfect as the aging macho man who doesn't know when to quit. However,  I was most impressed by Ashton Kutcher's performance. I have never liked him,  never watched any of his TV shows and always considered him an immature ... well,  punk. In this film,  he does a great job! He is well on his way to having leading-man status. I think the film we were shown must have been an advance rough cut or something,  because about 2/3 of the way in,  the film stock turned very grainy,  the sound level dropped and microphones were seen dropping down all over the place. Also at the viewing were representatives from the movie,  looking for audience feedback - particularly on the parts of the film we didn't like.<br /><br />*****POSSIBLE SPOILER: The feedback I gave concerned a a couple of lines in the beginning. Kevin Costner comes home to see his wife,  Sela Ward,  packing her stuff up and moving out. He says,  \"Maybe I should be the one to move out.\" And she replies,  \"No,  you don't know where anything is in this house; I should be the one to go.\" This doesn't make sense: If she knows the layout so well,  Costner is right,  he *should* be the one to leave.]\n",
            "Index: []\n",
            "files  0_10.txt\n",
            "Empty DataFrame\n",
            "Columns: [I went and saw this movie last night after being coaxed to by a few friends of mine. I'll admit that I was reluctant to see it because from what I knew of Ashton Kutcher he was only able to do comedy. I was wrong. Kutcher played the character of Jake Fischer very well,  and Kevin Costner played Ben Randall with such professionalism. The sign of a good movie is that it can toy with our emotions. This one did exactly that. The entire theater (which was sold out) was overcome by laughter during the first half of the movie,  and were moved to tears during the second half. While exiting the theater I not only saw many women in tears,  but many full grown men as well,  trying desperately not to let anyone see them crying. This movie was great,  and I suggest that you go see it before you judge.]\n",
            "Index: []\n",
            "['Once again Mr. Costner has dragged out a movie for far longer than necessary. Aside from the terrific sea rescue sequences', ' of which there are very few I just did not care about any of the characters. Most of us have ghosts in the closet', \" and Costner's character are realized early on\", ' and then forgotten until much later', ' by which time I did not care. The character we should really care about is a very cocky', \" overconfident Ashton Kutcher. The problem is he comes off as kid who thinks he's better than anyone else around him and shows no signs of a cluttered closet. His only obstacle appears to be winning over Costner. Finally when we are well past the half way point of this stinker\", \" Costner tells us all about Kutcher's ghosts. We are told why Kutcher is driven to be the best with no prior inkling or foreshadowing. No magic here\", ' it was all I could do to keep from turning it off an hour in.', 'I wish I knew what to make of a movie like this. It seems to be divided into two parts -- action sequences and personal dramas ashore. It follows Ashton Kutsher through survival swimmer school', ' guided by Master Chief Kevin Costner', ' then to Alaska where a couple of spectacular rescues take place', ' the last resulting in death.<br /><br />I must say that the scenes on the beach struck me as so stereotypical in so many ways that they should be barnacle encrusted. A typical bar room fight between Navy guys and Coast Guardsmen (\"puddle pirates\"). The experienced old timer Costner who is', ' as an elderly bar tender tells him', ' \"married to the Coast Guard.\" The older chief who \"keeps trying to prove to himself that he\\'s still nineteen.\" The neglected ex wife ashore to whom Kostner pays a farewell visit. The seemingly sadistic demands placed on the swimmers by the instructors', \" all in pursuit of a loftier goal. The gifted young man hobbled by a troubled past.<br /><br />The problem is that we've seen it all before. If it's Kevin Costner here\", ' it\\'s Clint Eastwood or John Wayne or Lou Gosset Jr. or Vigo Mortenson or Robert DeNiro elsewhere. And the climactic scene has elements drawn shamelessly from \"The Perfect Storm\" and \"Dead Calm.\" None of it is fresh and none of the old stereotyped characters and situations are handled with any originality.<br /><br />It works best as a kind of documentary of what goes on in the swimmer\\'s school and what could happen afterward and even that\\'s a little weak because we don\\'t get much in the way of instruction. It\\'s mostly personal conflict', ' romance', \" and tension about washing out.<br /><br />It's a shame because the U. S. Coast Guard is rather a noble outfit\", ' its official mission being \"the safety of lives and property at sea.\" In war time it is transferred to the Navy Department and serves in combat roles. In World War II', ' the Coast Guard even managed to have a Medal of Honor winner in its ranks.<br /><br />But', ' again', \" we don't learn much about that. We don't really learn much about anything. The film devolves into a succession of visual displays and not too much else. A disappointment.\", \"I'm not a big fan of musicals\", \" although this technically might not qualify as a musical. But I thought I would give it a chance as I love war movies. It was mediocre at best.<br /><br />Hudson seems totally out of kilter in this role. It just didn't work for me. Julie Andrews probably played her part as best as she could\", ' but I just find it hard to buy her as a conniving', ' deceptive spy. Sorry', ' I know that is classic stereotyping on my part. But I have to say I think this is Julie at her most beautiful and feminine looking. I always thought of her as more matronly', \" but then surely that's a result of her roles in Sound of Music and Mary Poppins. No doubt they were desperately trying to get her out of that typecasting in this role. She was quite beguiling in appearance here\", \" but I still didn't buy her as a spy.<br /><br />I couldn't keep my focus through the whole movie and found myself tuning in and out - and having conversations with those in my room (which I usually never do - I'm always shushing everybody). So that tells you how little it held my attention. Don't waste your time!\", \"My boyfriend and I went to watch The Guardian.At first I didn't want to watch it\", ' but I loved the movie- It was definitely the best movie I have seen in sometime.They portrayed the USCG very well', ' it really showed me what they do and I think they should really be appreciated more.Not only did it teach but it was a really good movie. The movie shows what the really do and how hard the job is.I think being a USCG would be challenging and very scary. It was a great movie all around. I would suggest this movie for anyone to see.The ending broke my heart but I know why he did it. The storyline was great I give it 2 thumbs up. I cried it was very emotional', ' I would give it a 20 if I could!', 'A tough sell: British playwright Ronald Harwood adapts his autobiographical stage drama into loud', ' bellowing film about WWII Shakespearean theatrical troupe saddled with an aged', ' blustery', ' brilliant-but-unreliable star at the end of his tether. The actor\\'s effete assistant works diligently to get his master coiffed and costumed for a production of \"King Lear\" (during an Air Raid!)', ' yet both men are losing their grip on their unraveling situation. Based on the waning years of actor Donald Wolfit', ' whose dresser was Ronald Harwood', ' this acclaimed production would seem to be a welcome haven for scenery-chewing thespians. Unfortunately', ' Albert Finney (at this point in his career', \" not at all elderly) seems too robust and quick-thinking to play the actor; Finney (and Oscar-nominated director Peter Yates) cannot modulate Sir's moods and bouts of coherency in a way that makes sense to us\", \" so that in one scene he's stopping a train with the commanding echo of his voice\", \" and in the next he's curiously falling apart. With such a wreck of a human being in the midst of failing health and aptitude\", ' one would assume a dedicated assistant would go to great lengths to protect his boss (and his future)', ' yet servant Tom Courtenay prods and badgers and goads Finney to carry on rather than rest. Courtenay', ' who played this part on stage (and was nominated for an Oscar alongside Finney for Best Actor)', ' is far more attuned to his role', ' and eventually his bleating commands and confusion achieve the only real feeling in the film. These two', ' thankfully', \" do not peck at each other's heads\", \" and scenarist Harwood is careful not to fall into a love-hate pattern (which could possibly be perceived in the film's first act); but\", ' without a juxtaposition of servant vs. celebrity', \" there's nothing much to behold in this portrait except for the deterioration of narcissism\", ' the hint at what once was. *1/2 from ****', \"I've seen this story before but my kids haven't. Boy with troubled past joins military\", ' faces his past', ' falls in love and becomes a man. The mentor this time is played perfectly by Kevin Costner; An ordinary man with common everyday problems who lives an extraordinary conviction', \" to save lives. After losing his team he takes a teaching position training the next generation of heroes. The young troubled recruit is played by Kutcher. While his scenes with the local love interest are a tad stiff and don't generate enough heat to melt butter\", ' he compliments Costner well. I never really understood Sela Ward as the neglected wife and felt she should of wanted Costner to quit out of concern for his safety as opposed to her selfish needs. But her presence on screen is a pleasure. The two unaccredited stars of this movie are the Coast Guard and the Sea. Both powerful forces which should not be taken for granted in real life or this movie. The movie has some slow spots and could have used the wasted 15 minutes to strengthen the character relationships. But it still works. The rescue scenes are intense and well filmed and edited to provide maximum impact. This movie earns the audience applause. And the applause of my two sons.', \"This is a pale imitation of 'Officer and a Gentleman.' There is NO chemistry between Kutcher and the unknown woman who plays his love interest. The dialog is wooden\", \" the situations hackneyed. It's too long and the climax is anti-climactic(!). I love the USCG\", ' its men and women are fearless and tough. The action scenes are awesome', \" but this movie doesn't do much for recruiting\", ' I fear. The script is formulaic', \" but confusing. Kutcher's character is trying to redeem himself for an accident that wasn't his fault? Costner's is raging against the dying of the light\", \" but why? His 'conflict' with his wife is about as deep as a mud puddle. I saw this sneak preview for free and certainly felt I got my money's worth.\", \"Blake Edwards' legendary fiasco\", ' begins to seem pointless after just 10 minutes. A combination of The Eagle Has Landed', ' Star!', ' Oh! What a Lovely War!', \" and Edwards' Pink Panther films\", ' Darling Lili never engages the viewer; the aerial sequences', ' the musical numbers', ' the romance', ' the comedy', ' and the espionage are all ho hum. At what point is the viewer supposed to give a damn? This disaster wavers in tone', ' never decides what it wants to be', \" and apparently thinks it's a spoof\", \" but it's pathetically and grindingly square. Old fashioned in the worst sense\", \" audiences understandably stayed away in droves. It's awful. James Garner would have been a vast improvement over Hudson who is just cardboard\", \" and he doesn't connect with Andrews and vice versa. And both Andrews and Hudson don't seem to have been let in on the joke and perform with a miscalculated earnestness. Blake Edwards' SOB isn't much more than OK\", \" but it's the only good that ever came out of Darling Lili. The expensive and professional look of much of Darling Lili\", \" only make what it's all lavished on even more difficult to bear. To quote Paramount chief Robert Evans\", ' \"24 million dollars worth of film and no picture\".', 'Our family (and the entire sold out sneak preview audience) enjoyed \"The Guardian\". Kevin Costner and Ashton Kutcher gave convincing performances as the fictional helicopter rescue swimmer characters Ben and Jake. After seeing this movie', \" you can't help but imagine how difficult it must be to graduate from the USCG helicopter rescue swimmer school and one day take part in real rescues.<br /><br />Even though this is a fictional movie\", ' it delivered rather convincing virtues of team spirit', ' dedication and bravery exhibited by all the members of the actual U. S. Coast Guard.<br /><br />The special effects used to create the rescue scenes were incredible. You actually felt like you were taking part in a real rescue.<br /><br />I feel the movie could have been made without the \"Hollywood\" bar scene (when you see the movie', ' you might agree) since the real Coast Guard does not condone such behavior. <br /><br />Very entertaining', ' very action packed', ' definitely worth seeing. Thank you', ' U. S. Coast Guard and the REAL helicopter rescue swimmers', ' \"So Others May Live\". I\\'d highly recommend this movie to everyone.', \"I'm a Petty Officer 1st Class (E-6) and have been in the USCG for 6 years and feel that this movie strongly represents the Coast Guard. There were only a few scenes that were far fetched. The most far-fetched was when PO Fischer (Kutcher) went down inside of the sinking vessel to pull the vessel's captain out of the engine room... that would never happen. Swimmers are not allowed to go inside of any vessel no matter the circumstances. Second\", ' the Command Center (supposedly in Kodiak)', \" it looked more like a NASA command center... we don't have any gear that hi-tech. Third\", ' the Captain of the Airstation would not be running the search & rescue cases with like 10 people on watch. In reality it would be an E-6 or E-7 as the SAR Controller and maybe 2 other support personnel like an assist SAR Controller & a Radio Watchstander. Otherwise the movie was dead on', ' I think they should have incorporated more of the other rates in the CG and their roles in search & rescue instead of just Aviation based rates. Some of the scenes from \"A\" school reminded me of my days their and the dumb stuff I did and got in trouble for in my younger days.', 'It seems ever since 1982', ' about every two or three years we get a movie that claims to be \"The Next Officer and a Gentleman.\" There has yet to be one movie that has lived up to this claim and this movie is no different.<br /><br />We get the usual ripped off scenes from OAAG (\"I want you DOR', ' the instructor gives the Richard Gere character his overdose of drills in hopes he\\'ll quit, the Gere character comes back for the girl, the Gere character realizes the instructor is great, etc.) and this movie is as predictable as the sun rising in the East and is horribly miscast on top. Costner plays his usual wise teacher\" character', ' the only character he can play', ' and you really get a sense of his limited acting abilities here. Kutcher is terrible in the Richard Gere character', ' just miscast with acting skills barely a notch above Keanu Reeves.<br /><br />The main problem with this OAAG wannabe is the two main characters are so amazingly one-dimensional', ' you never care for either in the least and when Kutcher\\'s character finally turns around (just like Gere did in OAAG) you just go \"so what? The movie leaves no plot point unturned and seems to never end as if to say \"oh wait', ' we forgot to close out the girlfriend story', ' or the what happens after he graduates story', ' or the other six plot points in the movie...\" What\\'s more baffling is the great \"reviews\" I see here. The general public\\'s opinions never cease to amaze me.', 'I was fortunate enough to see this movie on pre-release last night and', \" though I wasn't expecting to\", ' actually really enjoyed the movie for the most part. The rescues and sea effects were amazing to watch and definitely provided edge of the seat tense moments', \" probably all the more so knowing that there are guys who do this for a living. The weaker parts of the movie revolve largely around using stereotypical set scenes. I'm not going to spoil the movie but this really follows along the lines of An Officer and a Gentleman and those moments give it a little bit of a cheesy aftertaste.<br /><br />Like I said over all this movie is pretty good and worth checking out as long as you can get past the clichés.\", 'Alas', ' another Costner movie that was an hour too long. Credible performances', ' but the script had no where to go and was in no hurry to get there. First we are offered an unrelated string of events few of which further the story. Will the script center on Randall and his wife? Randall and Fischer? How about Fischer and Thomas? In the end', ' no real front story ever develops and the characters themselves are artificially propped up by monologues from third parties. The singer explains Randall', ' Randall explains Fischer', ' on and on. Finally', \" long after you don't care anymore\", ' you will learn something about the script meetings. Three endings were no doubt proffered and no one could make a decision. The end result? All three were used', ' one', ' after another', ' after another. If you can hang in past the 100th yawn', \" you'll be able to pick them out. Despite the transparent attempt to gain points with a dedication to the Coast Guard\", ' this one should have washed out the very first day.', 'I only went to see this movie because I have always liked Kevin Costner. I felt that Ashton did a great job in the Butterfly Effect. Unfortunately', \" even though these two actors were/are capable of good if not great acting moments some of that was missing here. Some of the scenes were just not believable and didn't have enough story line support.<br /><br />Though the movie claims influence from the hurricane Katrina aftermath\", ' there was very little (none) to that effect in the movie.<br /><br />Overall', \" I liked the fact that the movie brought forward some of what goes into saving lives from a water perspective.<br /><br />The special effects were pretty good and more than a little intimidating. Not sure I'll ever go deep sea fishing again...<br /><br />I expected a little more emotion in the film than what was presented.<br /><br />Definitely a movie that could've been seen on DVD.\", \"David Bryce's comments nearby are exceptionally well written and informative as almost say everything I feel about DARLING LILI. This massive musical is so peculiar and over blown\", ' over produced and must have caused ruptures at Paramount in 1970. It cost 22 million dollars! That is simply irresponsible. DARLING LILI must have been greenlit from a board meeting that said \"hey we got that Pink Panther guy and that Sound Of Music gal... lets get this too\" and handed over a blank cheque. The result is a hybrid of GIGI', ' ZEPPELIN', ' HALF A SIXPENCE', ' some MGM 40s song and dance numbers of a style (daisies and boaters!) so hopelessly old fashioned as to be like musical porridge', ' and MATA HARI dramatics. The production is colossal', ' lush', ' breathtaking to view', ' but the rest: the ridiculous romance', ' Julie looking befuddled', ' Hudson already dead', ' the mistimed comedy', ' and the astoundingly boring songs deaden this spectacular film into being irritating. LILI is like a twee 1940s mega musical with some vulgar bits to spice it up. STAR! released the year before sadly crashed and now is being finally appreciated for the excellent film is genuinely is... and Andrews looks sublime', ' mature', ' especially in the last half hour......but LILI is POPPINS and DOLLY frilly and I believe really killed off the mega musical binge of the 60s..... and made Andrews look like Poppins again... which I believe was not Edwards intention. Paramount must have collectively fainted when they saw this: and with another $20 million festering in CATCH 22', ' and $12 million in ON A CLEAR DAY and $25 million in PAINT YOUR WAGON....they had a financial abyss of CLEOPATRA proportions with $77 million tied into 4 films with very uncertain futures. Maybe they should have asked seer Daisy Gamble from ON A CLEAR DAY ......LILI was very popular on immediate first release in Australia and ran in 70mm cinemas for months but it failed once out in the subs and the sticks and only ever surfaced after that on one night stands with ON A CLEAR DAY as a Sunday night double. Thank god Paramount had their simple $1million (yes', ' ONE MILLION DOLLAR) film LOVE STORY and that $4 million dollar gangster pic THE GODFATHER also ready to recover all the $77 million in just the next two years....for just $5m.... incredible!', \"This movie was sadly under-promoted but proved to be truly exceptional. Entering the theatre I knew nothing about the film except that a friend wanted to see it.<br /><br />I was caught off guard with the high quality of the film. I couldn't image Ashton Kutcher in a serious role\", ' but his performance truly exemplified his character. This movie is exceptional and deserves our monetary support', ' unlike so many other movies. It does not come lightly for me to recommend any movie', ' but in this case I highly recommend that everyone see it.<br /><br />This films is Truly Exceptional!', 'Wow', ' another Kevin Costner hero movie. Postman', ' Tin Cup', ' Waterworld', ' Bodyguard', ' Wyatt Earp', ' Robin Hood', ' even that baseball movie. Seems like he makes movies specifically to be the center of attention. The characters are almost always the same ... the heroics', ' the flaws', ' the greatness', ' the fall', ' the redemption. Yup', ' within the 1st 5 minutes of the movie', \" we're all supposed to be in awe of his character\", \" and it builds up more and more from there.<br /><br />And this time the story ... story? ... is just a collage of different movies. You don't need a spoiler; you've seen this movie several times\", \" though it had different titles. You'll know what will happen way before it happens. This is like mixing An Officer and a Gentleman with Backdraft\", ' but both are easily better movies. Watch Backdraft to see how this kind of movie should be made ... and also to see how an good but slightly underrated actor', ' Russell', ' plays the hero.', \"How many movies are there that you can think of when you see a movie like this? I can't count them but it sure seemed like the movie makers were trying to give me a hint. I was reminded so often of other movies\", ' it became a big distraction. One of the borrowed memorable lines came from a movie from 2003 - Day After Tomorrow. One line by itself', ' is not so bad but this movie borrows so much from so many movies it becomes a bad risk.<br /><br />BUT...<br /><br />See The Movie! Despite its downfalls there is enough to make it interesting and maybe make it appear clever. While borrowing so much from other movies it never goes overboard. In fact', \" you'll probably find yourself battening down the hatches and riding the storm out. Why? ...Costner and Kutcher played their characters very well. I have never been a fan of Kutcher's and I nearly gave up on him in The Guardian\", \" but he surfaced in good fashion. Costner carries the movie swimmingly with the best of Costner's ability. I don't think Mrs. Robinson had anything to do with his success.<br /><br />The supporting cast all around played their parts well. I had no problem with any of them in the end. But some of these characters were used too much.<br /><br />From here on out I can only nit-pick so I will save you the wear and tear. Enjoy the movie\", ' the parts that work', \" work well enough to keep your head above water. Just don't expect a smooth ride.<br /><br />7 of 10 but almost a 6.\", \"My yardstick for measuring a movie's watch-ability is if I get squirmy. If I start shifting positions and noticing my butt is sore\", ' the film is too long. This movie did not even come close to being boring. Predictable in some parts sure', ' but never boring.<br /><br />All of the other military branches have had love notes written about them and seen their recruitment levels go up', ' why not the Coast Guard too? They are definitely under-appreciated', \" until the day your boat sinks that is.<br /><br />The movie was very enjoyable and fun. Kevin Costner is perfect as the aging macho man who doesn't know when to quit. However\", \" I was most impressed by Ashton Kutcher's performance. I have never liked him\", ' never watched any of his TV shows and always considered him an immature ... well', ' punk. In this film', ' he does a great job! He is well on his way to having leading-man status. I think the film we were shown must have been an advance rough cut or something', ' because about 2/3 of the way in', ' the film stock turned very grainy', ' the sound level dropped and microphones were seen dropping down all over the place. Also at the viewing were representatives from the movie', \" looking for audience feedback - particularly on the parts of the film we didn't like.<br /><br />*****POSSIBLE SPOILER: The feedback I gave concerned a a couple of lines in the beginning. Kevin Costner comes home to see his wife\", ' Sela Ward', ' packing her stuff up and moving out. He says', ' \"Maybe I should be the one to move out.\" And she replies', ' \"No', ' you don\\'t know where anything is in this house; I should be the one to go.\" This doesn\\'t make sense: If she knows the layout so well', ' Costner is right', ' he *should* be the one to leave.', \"I went and saw this movie last night after being coaxed to by a few friends of mine. I'll admit that I was reluctant to see it because from what I knew of Ashton Kutcher he was only able to do comedy. I was wrong. Kutcher played the character of Jake Fischer very well\", ' and Kevin Costner played Ben Randall with such professionalism. The sign of a good movie is that it can toy with our emotions. This one did exactly that. The entire theater (which was sold out) was overcome by laughter during the first half of the movie', ' and were moved to tears during the second half. While exiting the theater I not only saw many women in tears', ' but many full grown men as well', ' trying desperately not to let anyone see them crying. This movie was great', ' and I suggest that you go see it before you judge.']\n"
          ]
        }
      ],
      "source": [
        "reviewList=[]\n",
        "#code through here\n",
        "for files in glob.glob(\"*.txt\"):   #glob.glob returns a list of pathnames. It helps us loop through all files that are .txt in the sample folder\n",
        "    print(\"files \", files)\n",
        "    df = pd.read_csv(files) #dataframe, data structure that organizes data into a 2-dimensional table of rows and columns, like a spreadsheet\n",
        "    print(df)\n",
        "    for content in df:  \n",
        "        reviewList.append(content) #add all the data (or in this case the strings in the files in sample data) to this list\n",
        "print (reviewList) #see the list of Strings from all the .txt files"
      ]
    },
    {
      "cell_type": "markdown",
      "metadata": {
        "id": "6-NRp0QTM56Y"
      },
      "source": [
        "Convert the review list into a huge string."
      ]
    },
    {
      "cell_type": "code",
      "execution_count": 8,
      "metadata": {
        "id": "uEXsipJrM4cc",
        "outputId": "729bf513-3ae6-40db-bf83-f27efbca0f01",
        "colab": {
          "base_uri": "https://localhost:8080/"
        }
      },
      "outputs": [
        {
          "output_type": "stream",
          "name": "stdout",
          "text": [
            "Once again Mr. Costner has dragged out a movie for far longer than necessary. Aside from the terrific sea rescue sequences  of which there are very few I just did not care about any of the characters. Most of us have ghosts in the closet  and Costner's character are realized early on  and then forgotten until much later  by which time I did not care. The character we should really care about is a very cocky  overconfident Ashton Kutcher. The problem is he comes off as kid who thinks he's better than anyone else around him and shows no signs of a cluttered closet. His only obstacle appears to be winning over Costner. Finally when we are well past the half way point of this stinker  Costner tells us all about Kutcher's ghosts. We are told why Kutcher is driven to be the best with no prior inkling or foreshadowing. No magic here  it was all I could do to keep from turning it off an hour in. I wish I knew what to make of a movie like this. It seems to be divided into two parts -- action sequences and personal dramas ashore. It follows Ashton Kutsher through survival swimmer school  guided by Master Chief Kevin Costner  then to Alaska where a couple of spectacular rescues take place  the last resulting in death.I must say that the scenes on the beach struck me as so stereotypical in so many ways that they should be barnacle encrusted. A typical bar room fight between Navy guys and Coast Guardsmen (\"puddle pirates\"). The experienced old timer Costner who is  as an elderly bar tender tells him  \"married to the Coast Guard.\" The older chief who \"keeps trying to prove to himself that he's still nineteen.\" The neglected ex wife ashore to whom Kostner pays a farewell visit. The seemingly sadistic demands placed on the swimmers by the instructors  all in pursuit of a loftier goal. The gifted young man hobbled by a troubled past.The problem is that we've seen it all before. If it's Kevin Costner here  it's Clint Eastwood or John Wayne or Lou Gosset Jr. or Vigo Mortenson or Robert DeNiro elsewhere. And the climactic scene has elements drawn shamelessly from \"The Perfect Storm\" and \"Dead Calm.\" None of it is fresh and none of the old stereotyped characters and situations are handled with any originality.It works best as a kind of documentary of what goes on in the swimmer's school and what could happen afterward and even that's a little weak because we don't get much in the way of instruction. It's mostly personal conflict  romance  and tension about washing out.It's a shame because the U. S. Coast Guard is rather a noble outfit  its official mission being \"the safety of lives and property at sea.\" In war time it is transferred to the Navy Department and serves in combat roles. In World War II  the Coast Guard even managed to have a Medal of Honor winner in its ranks.But  again  we don't learn much about that. We don't really learn much about anything. The film devolves into a succession of visual displays and not too much else. A disappointment. I'm not a big fan of musicals  although this technically might not qualify as a musical. But I thought I would give it a chance as I love war movies. It was mediocre at best.Hudson seems totally out of kilter in this role. It just didn't work for me. Julie Andrews probably played her part as best as she could  but I just find it hard to buy her as a conniving  deceptive spy. Sorry  I know that is classic stereotyping on my part. But I have to say I think this is Julie at her most beautiful and feminine looking. I always thought of her as more matronly  but then surely that's a result of her roles in Sound of Music and Mary Poppins. No doubt they were desperately trying to get her out of that typecasting in this role. She was quite beguiling in appearance here  but I still didn't buy her as a spy.I couldn't keep my focus through the whole movie and found myself tuning in and out - and having conversations with those in my room (which I usually never do - I'm always shushing everybody). So that tells you how little it held my attention. Don't waste your time! My boyfriend and I went to watch The Guardian.At first I didn't want to watch it  but I loved the movie- It was definitely the best movie I have seen in sometime.They portrayed the USCG very well  it really showed me what they do and I think they should really be appreciated more.Not only did it teach but it was a really good movie. The movie shows what the really do and how hard the job is.I think being a USCG would be challenging and very scary. It was a great movie all around. I would suggest this movie for anyone to see.The ending broke my heart but I know why he did it. The storyline was great I give it 2 thumbs up. I cried it was very emotional  I would give it a 20 if I could! A tough sell: British playwright Ronald Harwood adapts his autobiographical stage drama into loud  bellowing film about WWII Shakespearean theatrical troupe saddled with an aged  blustery  brilliant-but-unreliable star at the end of his tether. The actor's effete assistant works diligently to get his master coiffed and costumed for a production of \"King Lear\" (during an Air Raid!)  yet both men are losing their grip on their unraveling situation. Based on the waning years of actor Donald Wolfit  whose dresser was Ronald Harwood  this acclaimed production would seem to be a welcome haven for scenery-chewing thespians. Unfortunately  Albert Finney (at this point in his career  not at all elderly) seems too robust and quick-thinking to play the actor; Finney (and Oscar-nominated director Peter Yates) cannot modulate Sir's moods and bouts of coherency in a way that makes sense to us  so that in one scene he's stopping a train with the commanding echo of his voice  and in the next he's curiously falling apart. With such a wreck of a human being in the midst of failing health and aptitude  one would assume a dedicated assistant would go to great lengths to protect his boss (and his future)  yet servant Tom Courtenay prods and badgers and goads Finney to carry on rather than rest. Courtenay  who played this part on stage (and was nominated for an Oscar alongside Finney for Best Actor)  is far more attuned to his role  and eventually his bleating commands and confusion achieve the only real feeling in the film. These two  thankfully  do not peck at each other's heads  and scenarist Harwood is careful not to fall into a love-hate pattern (which could possibly be perceived in the film's first act); but  without a juxtaposition of servant vs. celebrity  there's nothing much to behold in this portrait except for the deterioration of narcissism  the hint at what once was. *1/2 from **** I've seen this story before but my kids haven't. Boy with troubled past joins military  faces his past  falls in love and becomes a man. The mentor this time is played perfectly by Kevin Costner; An ordinary man with common everyday problems who lives an extraordinary conviction  to save lives. After losing his team he takes a teaching position training the next generation of heroes. The young troubled recruit is played by Kutcher. While his scenes with the local love interest are a tad stiff and don't generate enough heat to melt butter  he compliments Costner well. I never really understood Sela Ward as the neglected wife and felt she should of wanted Costner to quit out of concern for his safety as opposed to her selfish needs. But her presence on screen is a pleasure. The two unaccredited stars of this movie are the Coast Guard and the Sea. Both powerful forces which should not be taken for granted in real life or this movie. The movie has some slow spots and could have used the wasted 15 minutes to strengthen the character relationships. But it still works. The rescue scenes are intense and well filmed and edited to provide maximum impact. This movie earns the audience applause. And the applause of my two sons. This is a pale imitation of 'Officer and a Gentleman.' There is NO chemistry between Kutcher and the unknown woman who plays his love interest. The dialog is wooden  the situations hackneyed. It's too long and the climax is anti-climactic(!). I love the USCG  its men and women are fearless and tough. The action scenes are awesome  but this movie doesn't do much for recruiting  I fear. The script is formulaic  but confusing. Kutcher's character is trying to redeem himself for an accident that wasn't his fault? Costner's is raging against the dying of the light  but why? His 'conflict' with his wife is about as deep as a mud puddle. I saw this sneak preview for free and certainly felt I got my money's worth. Blake Edwards' legendary fiasco  begins to seem pointless after just 10 minutes. A combination of The Eagle Has Landed  Star!  Oh! What a Lovely War!  and Edwards' Pink Panther films  Darling Lili never engages the viewer; the aerial sequences  the musical numbers  the romance  the comedy  and the espionage are all ho hum. At what point is the viewer supposed to give a damn? This disaster wavers in tone  never decides what it wants to be  and apparently thinks it's a spoof  but it's pathetically and grindingly square. Old fashioned in the worst sense  audiences understandably stayed away in droves. It's awful. James Garner would have been a vast improvement over Hudson who is just cardboard  and he doesn't connect with Andrews and vice versa. And both Andrews and Hudson don't seem to have been let in on the joke and perform with a miscalculated earnestness. Blake Edwards' SOB isn't much more than OK  but it's the only good that ever came out of Darling Lili. The expensive and professional look of much of Darling Lili  only make what it's all lavished on even more difficult to bear. To quote Paramount chief Robert Evans  \"24 million dollars worth of film and no picture\". Our family (and the entire sold out sneak preview audience) enjoyed \"The Guardian\". Kevin Costner and Ashton Kutcher gave convincing performances as the fictional helicopter rescue swimmer characters Ben and Jake. After seeing this movie  you can't help but imagine how difficult it must be to graduate from the USCG helicopter rescue swimmer school and one day take part in real rescues.Even though this is a fictional movie  it delivered rather convincing virtues of team spirit  dedication and bravery exhibited by all the members of the actual U. S. Coast Guard.The special effects used to create the rescue scenes were incredible. You actually felt like you were taking part in a real rescue.I feel the movie could have been made without the \"Hollywood\" bar scene (when you see the movie  you might agree) since the real Coast Guard does not condone such behavior. Very entertaining  very action packed  definitely worth seeing. Thank you  U. S. Coast Guard and the REAL helicopter rescue swimmers  \"So Others May Live\". I'd highly recommend this movie to everyone. I'm a Petty Officer 1st Class (E-6) and have been in the USCG for 6 years and feel that this movie strongly represents the Coast Guard. There were only a few scenes that were far fetched. The most far-fetched was when PO Fischer (Kutcher) went down inside of the sinking vessel to pull the vessel's captain out of the engine room... that would never happen. Swimmers are not allowed to go inside of any vessel no matter the circumstances. Second  the Command Center (supposedly in Kodiak)  it looked more like a NASA command center... we don't have any gear that hi-tech. Third  the Captain of the Airstation would not be running the search & rescue cases with like 10 people on watch. In reality it would be an E-6 or E-7 as the SAR Controller and maybe 2 other support personnel like an assist SAR Controller & a Radio Watchstander. Otherwise the movie was dead on  I think they should have incorporated more of the other rates in the CG and their roles in search & rescue instead of just Aviation based rates. Some of the scenes from \"A\" school reminded me of my days their and the dumb stuff I did and got in trouble for in my younger days. It seems ever since 1982  about every two or three years we get a movie that claims to be \"The Next Officer and a Gentleman.\" There has yet to be one movie that has lived up to this claim and this movie is no different.We get the usual ripped off scenes from OAAG (\"I want you DOR  the instructor gives the Richard Gere character his overdose of drills in hopes he'll quit, the Gere character comes back for the girl, the Gere character realizes the instructor is great, etc.) and this movie is as predictable as the sun rising in the East and is horribly miscast on top. Costner plays his usual wise teacher\" character  the only character he can play  and you really get a sense of his limited acting abilities here. Kutcher is terrible in the Richard Gere character  just miscast with acting skills barely a notch above Keanu Reeves.The main problem with this OAAG wannabe is the two main characters are so amazingly one-dimensional  you never care for either in the least and when Kutcher's character finally turns around (just like Gere did in OAAG) you just go \"so what? The movie leaves no plot point unturned and seems to never end as if to say \"oh wait  we forgot to close out the girlfriend story  or the what happens after he graduates story  or the other six plot points in the movie...\" What's more baffling is the great \"reviews\" I see here. The general public's opinions never cease to amaze me. I was fortunate enough to see this movie on pre-release last night and  though I wasn't expecting to  actually really enjoyed the movie for the most part. The rescues and sea effects were amazing to watch and definitely provided edge of the seat tense moments  probably all the more so knowing that there are guys who do this for a living. The weaker parts of the movie revolve largely around using stereotypical set scenes. I'm not going to spoil the movie but this really follows along the lines of An Officer and a Gentleman and those moments give it a little bit of a cheesy aftertaste.Like I said over all this movie is pretty good and worth checking out as long as you can get past the clichés. Alas  another Costner movie that was an hour too long. Credible performances  but the script had no where to go and was in no hurry to get there. First we are offered an unrelated string of events few of which further the story. Will the script center on Randall and his wife? Randall and Fischer? How about Fischer and Thomas? In the end  no real front story ever develops and the characters themselves are artificially propped up by monologues from third parties. The singer explains Randall  Randall explains Fischer  on and on. Finally  long after you don't care anymore  you will learn something about the script meetings. Three endings were no doubt proffered and no one could make a decision. The end result? All three were used  one  after another  after another. If you can hang in past the 100th yawn  you'll be able to pick them out. Despite the transparent attempt to gain points with a dedication to the Coast Guard  this one should have washed out the very first day. I only went to see this movie because I have always liked Kevin Costner. I felt that Ashton did a great job in the Butterfly Effect. Unfortunately  even though these two actors were/are capable of good if not great acting moments some of that was missing here. Some of the scenes were just not believable and didn't have enough story line support.Though the movie claims influence from the hurricane Katrina aftermath  there was very little (none) to that effect in the movie.Overall  I liked the fact that the movie brought forward some of what goes into saving lives from a water perspective.The special effects were pretty good and more than a little intimidating. Not sure I'll ever go deep sea fishing again...I expected a little more emotion in the film than what was presented.Definitely a movie that could've been seen on DVD. David Bryce's comments nearby are exceptionally well written and informative as almost say everything I feel about DARLING LILI. This massive musical is so peculiar and over blown  over produced and must have caused ruptures at Paramount in 1970. It cost 22 million dollars! That is simply irresponsible. DARLING LILI must have been greenlit from a board meeting that said \"hey we got that Pink Panther guy and that Sound Of Music gal... lets get this too\" and handed over a blank cheque. The result is a hybrid of GIGI  ZEPPELIN  HALF A SIXPENCE  some MGM 40s song and dance numbers of a style (daisies and boaters!) so hopelessly old fashioned as to be like musical porridge  and MATA HARI dramatics. The production is colossal  lush  breathtaking to view  but the rest: the ridiculous romance  Julie looking befuddled  Hudson already dead  the mistimed comedy  and the astoundingly boring songs deaden this spectacular film into being irritating. LILI is like a twee 1940s mega musical with some vulgar bits to spice it up. STAR! released the year before sadly crashed and now is being finally appreciated for the excellent film is genuinely is... and Andrews looks sublime  mature  especially in the last half hour......but LILI is POPPINS and DOLLY frilly and I believe really killed off the mega musical binge of the 60s..... and made Andrews look like Poppins again... which I believe was not Edwards intention. Paramount must have collectively fainted when they saw this: and with another $20 million festering in CATCH 22  and $12 million in ON A CLEAR DAY and $25 million in PAINT YOUR WAGON....they had a financial abyss of CLEOPATRA proportions with $77 million tied into 4 films with very uncertain futures. Maybe they should have asked seer Daisy Gamble from ON A CLEAR DAY ......LILI was very popular on immediate first release in Australia and ran in 70mm cinemas for months but it failed once out in the subs and the sticks and only ever surfaced after that on one night stands with ON A CLEAR DAY as a Sunday night double. Thank god Paramount had their simple $1million (yes  ONE MILLION DOLLAR) film LOVE STORY and that $4 million dollar gangster pic THE GODFATHER also ready to recover all the $77 million in just the next two years....for just $5m.... incredible! This movie was sadly under-promoted but proved to be truly exceptional. Entering the theatre I knew nothing about the film except that a friend wanted to see it.I was caught off guard with the high quality of the film. I couldn't image Ashton Kutcher in a serious role  but his performance truly exemplified his character. This movie is exceptional and deserves our monetary support  unlike so many other movies. It does not come lightly for me to recommend any movie  but in this case I highly recommend that everyone see it.This films is Truly Exceptional! Wow  another Kevin Costner hero movie. Postman  Tin Cup  Waterworld  Bodyguard  Wyatt Earp  Robin Hood  even that baseball movie. Seems like he makes movies specifically to be the center of attention. The characters are almost always the same ... the heroics  the flaws  the greatness  the fall  the redemption. Yup  within the 1st 5 minutes of the movie  we're all supposed to be in awe of his character  and it builds up more and more from there.And this time the story ... story? ... is just a collage of different movies. You don't need a spoiler; you've seen this movie several times  though it had different titles. You'll know what will happen way before it happens. This is like mixing An Officer and a Gentleman with Backdraft  but both are easily better movies. Watch Backdraft to see how this kind of movie should be made ... and also to see how an good but slightly underrated actor  Russell  plays the hero. How many movies are there that you can think of when you see a movie like this? I can't count them but it sure seemed like the movie makers were trying to give me a hint. I was reminded so often of other movies  it became a big distraction. One of the borrowed memorable lines came from a movie from 2003 - Day After Tomorrow. One line by itself  is not so bad but this movie borrows so much from so many movies it becomes a bad risk.BUT...See The Movie! Despite its downfalls there is enough to make it interesting and maybe make it appear clever. While borrowing so much from other movies it never goes overboard. In fact  you'll probably find yourself battening down the hatches and riding the storm out. Why? ...Costner and Kutcher played their characters very well. I have never been a fan of Kutcher's and I nearly gave up on him in The Guardian  but he surfaced in good fashion. Costner carries the movie swimmingly with the best of Costner's ability. I don't think Mrs. Robinson had anything to do with his success.The supporting cast all around played their parts well. I had no problem with any of them in the end. But some of these characters were used too much.From here on out I can only nit-pick so I will save you the wear and tear. Enjoy the movie  the parts that work  work well enough to keep your head above water. Just don't expect a smooth ride.7 of 10 but almost a 6. My yardstick for measuring a movie's watch-ability is if I get squirmy. If I start shifting positions and noticing my butt is sore  the film is too long. This movie did not even come close to being boring. Predictable in some parts sure  but never boring.All of the other military branches have had love notes written about them and seen their recruitment levels go up  why not the Coast Guard too? They are definitely under-appreciated  until the day your boat sinks that is.The movie was very enjoyable and fun. Kevin Costner is perfect as the aging macho man who doesn't know when to quit. However  I was most impressed by Ashton Kutcher's performance. I have never liked him  never watched any of his TV shows and always considered him an immature ... well  punk. In this film  he does a great job! He is well on his way to having leading-man status. I think the film we were shown must have been an advance rough cut or something  because about 2/3 of the way in  the film stock turned very grainy  the sound level dropped and microphones were seen dropping down all over the place. Also at the viewing were representatives from the movie  looking for audience feedback - particularly on the parts of the film we didn't like.*****POSSIBLE SPOILER: The feedback I gave concerned a a couple of lines in the beginning. Kevin Costner comes home to see his wife  Sela Ward  packing her stuff up and moving out. He says  \"Maybe I should be the one to move out.\" And she replies  \"No  you don't know where anything is in this house; I should be the one to go.\" This doesn't make sense: If she knows the layout so well  Costner is right  he *should* be the one to leave. I went and saw this movie last night after being coaxed to by a few friends of mine. I'll admit that I was reluctant to see it because from what I knew of Ashton Kutcher he was only able to do comedy. I was wrong. Kutcher played the character of Jake Fischer very well  and Kevin Costner played Ben Randall with such professionalism. The sign of a good movie is that it can toy with our emotions. This one did exactly that. The entire theater (which was sold out) was overcome by laughter during the first half of the movie  and were moved to tears during the second half. While exiting the theater I not only saw many women in tears  but many full grown men as well  trying desperately not to let anyone see them crying. This movie was great  and I suggest that you go see it before you judge.\n"
          ]
        }
      ],
      "source": [
        "str1 = \" \" #String that will combine all the strings in the reviewList into 1 huge string, want it as a bag of words\n",
        "data = str1.join(reviewList) #combines all the strings, data is a string\n",
        "#allows us to not have to use anymore loops to do the same function for all the separate strings in the reviewList\n",
        "data = data.replace(\"<br />\",\"\") #deletes any breaks or \\n\n",
        "print (data)"
      ]
    },
    {
      "cell_type": "markdown",
      "metadata": {
        "id": "6AuxFOLb309_"
      },
      "source": [
        "## Parsing\n",
        "\n",
        "Text Parsing is the the task of separating the text we want to analyze into smaller components based on some rules. This is very common in different applications such as document parsing and NLP.\n",
        "\n",
        "### Tokenization\n",
        "Tokenization is the process by which big quantity of text is divided into smaller parts called tokens.\n",
        "\n",
        "### Remove punctuations and Stop Words\n",
        "Stop Words are words that are so commonly used that they carry very little useful information.\n",
        "\n",
        "http://www.nltk.org/nltk_data/"
      ]
    },
    {
      "cell_type": "code",
      "execution_count": 10,
      "metadata": {
        "id": "SpcFYiMnNA2o"
      },
      "outputs": [],
      "source": [
        "import nltk\n",
        "# nltk.download_shell() for mac users\n",
        "from nltk.tokenize import word_tokenize #word is splits a string into individual words called tokens"
      ]
    },
    {
      "cell_type": "code",
      "execution_count": 11,
      "metadata": {
        "id": "wWCqOCfPW11F",
        "outputId": "29e46c2b-6af3-44b6-ad1d-1f3cb7cd41e4",
        "colab": {
          "base_uri": "https://localhost:8080/"
        }
      },
      "outputs": [
        {
          "output_type": "stream",
          "name": "stderr",
          "text": [
            "[nltk_data] Downloading package punkt to /root/nltk_data...\n",
            "[nltk_data]   Unzipping tokenizers/punkt.zip.\n"
          ]
        },
        {
          "output_type": "execute_result",
          "data": {
            "text/plain": [
              "True"
            ]
          },
          "metadata": {},
          "execution_count": 11
        }
      ],
      "source": [
        "nltk.download('punkt')\n",
        "#Your Code Here"
      ]
    },
    {
      "cell_type": "code",
      "execution_count": null,
      "metadata": {
        "id": "deoHaO-oNF-k"
      },
      "outputs": [],
      "source": [
        "from nltk.tokenize import RegexpTokenizer\n",
        "\n",
        "tokenizer = RegexpTokenizer(r'\\w+')\n",
        "#Your Code Here"
      ]
    },
    {
      "cell_type": "code",
      "execution_count": null,
      "metadata": {
        "id": "84YZcOuPNDXG"
      },
      "outputs": [],
      "source": [
        "from nltk.corpus import stopwords \n",
        "#stopwords are words that can be safely ignored, they don't add much meaning to a sentence outside of grammar"
      ]
    },
    {
      "cell_type": "code",
      "execution_count": null,
      "metadata": {
        "id": "-skURpXOPYJ6"
      },
      "outputs": [],
      "source": [
        "nltk.download('stopwords')\n",
        "\n",
        "stop_words = set(stopwords.words('english')) #tell it we want english\n",
        "\n",
        "#Your Code Here"
      ]
    },
    {
      "cell_type": "code",
      "execution_count": null,
      "metadata": {
        "id": "qYHXr02ww46o"
      },
      "outputs": [],
      "source": [
        "len(filtered_words)"
      ]
    },
    {
      "cell_type": "code",
      "execution_count": null,
      "metadata": {
        "id": "GvwC1rHhSUQr"
      },
      "outputs": [],
      "source": [
        "print(set(filtered_words))"
      ]
    },
    {
      "cell_type": "code",
      "execution_count": null,
      "metadata": {
        "id": "NEkKbwZgSUVf"
      },
      "outputs": [],
      "source": [
        "len(set(filtered_words))"
      ]
    },
    {
      "cell_type": "code",
      "execution_count": null,
      "metadata": {
        "id": "tPNtbYdCTO51"
      },
      "outputs": [],
      "source": [
        "len(tokens)"
      ]
    },
    {
      "cell_type": "code",
      "execution_count": null,
      "metadata": {
        "id": "X854qbooTSE2"
      },
      "outputs": [],
      "source": [
        "print(set(tokens))"
      ]
    },
    {
      "cell_type": "code",
      "execution_count": null,
      "metadata": {
        "id": "7mm2NaE_TTn1"
      },
      "outputs": [],
      "source": [
        "len(set(tokens))"
      ]
    },
    {
      "cell_type": "code",
      "execution_count": null,
      "metadata": {
        "id": "GgMrpf5jSz1r"
      },
      "outputs": [],
      "source": [
        "print(set(w.lower() for w in tokens))"
      ]
    },
    {
      "cell_type": "code",
      "execution_count": null,
      "metadata": {
        "id": "BzG_SS5LSUZz"
      },
      "outputs": [],
      "source": [
        "len(set(w.lower() for w in tokens))"
      ]
    },
    {
      "cell_type": "markdown",
      "source": [
        "Add annotation about startswith and endswitch\n"
      ],
      "metadata": {
        "id": "tXrQ7qBiGrkQ"
      }
    },
    {
      "cell_type": "code",
      "execution_count": null,
      "metadata": {
        "id": "VHYHt9cqSUga"
      },
      "outputs": [],
      "source": [
        "print(sorted([w for w in tokens if w.startswith('A')]))"
      ]
    },
    {
      "cell_type": "code",
      "execution_count": null,
      "metadata": {
        "id": "I90STlsKSUtC"
      },
      "outputs": [],
      "source": [
        "print(sorted([w for w in tokens if w.endswith('a')]))"
      ]
    },
    {
      "cell_type": "markdown",
      "source": [
        "## Comparison Methods"
      ],
      "metadata": {
        "id": "jUqc2WVvxDzd"
      }
    },
    {
      "cell_type": "markdown",
      "source": [
        "### isupper()\n",
        "isupper() returns True if all alphabetical characters are uppercased."
      ],
      "metadata": {
        "id": "Pg8kLF8ojRhS"
      }
    },
    {
      "cell_type": "code",
      "source": [
        "#isupper()\n",
        "str1 = \"THWG\"\n",
        "str2 = \"THWG!\"\n",
        "str3 = \"TO HELL WITH GEORGIA!\"\n",
        "str4 = \"To hell with Georgia!\"\n",
        "str5 = \"to hell with georgia!\"\n",
        "print(str1.isupper())\n",
        "print(str2.isupper())\n",
        "print(str3.isupper())\n",
        "print(str4.isupper())\n",
        "print(str5.isupper())"
      ],
      "metadata": {
        "id": "VraI1ajJxscl"
      },
      "execution_count": null,
      "outputs": []
    },
    {
      "cell_type": "markdown",
      "source": [
        "### islower()\n",
        "islower() returns True if all alphabetical characters are lowercased."
      ],
      "metadata": {
        "id": "a3ovsvcOjSic"
      }
    },
    {
      "cell_type": "code",
      "source": [
        "#islower()\n",
        "print(str1.islower())\n",
        "print(str2.islower())\n",
        "print(str3.islower())\n",
        "print(str4.islower())\n",
        "print(str5.islower())"
      ],
      "metadata": {
        "id": "wKdO5qmpxshl"
      },
      "execution_count": null,
      "outputs": []
    },
    {
      "cell_type": "markdown",
      "source": [
        "### istitle()\n",
        "istitle() returns True if only the first letters of every word is capitalized, therefore making the String at Title."
      ],
      "metadata": {
        "id": "qlVXcn0djTPw"
      }
    },
    {
      "cell_type": "code",
      "source": [
        "#istitle()\n",
        "str6 = \"To Hell the Georgia!\"\n",
        "str7 = \"To Hell The Georgia!\"\n",
        "print(str3.istitle()) #str3 = \"TO HELL WITH GEORGIA!\"\n",
        "print(str6.istitle())\n",
        "print(str7.istitle())"
      ],
      "metadata": {
        "id": "f8LISMCaxsuP"
      },
      "execution_count": null,
      "outputs": []
    },
    {
      "cell_type": "markdown",
      "source": [
        "### isalpha()\n",
        "isalpha() returns True if all the characters in the string are alphabetic"
      ],
      "metadata": {
        "id": "VzU0Y1IOjUBd"
      }
    },
    {
      "cell_type": "code",
      "execution_count": null,
      "metadata": {
        "id": "p1O17oQ2XKcT"
      },
      "outputs": [],
      "source": [
        "#isalpha()\n",
        "str1 = \"To Hell With Georgia\"\n",
        "str2 = \"!\"\n",
        "str3 = \"THWG\"\n",
        "print(str1.isalpha())\n",
        "print(str2.isalpha())\n",
        "print(str3.isalpha())"
      ]
    },
    {
      "cell_type": "markdown",
      "source": [
        "### isdigit()\n",
        "isdigit() returns True if all the characters in the string are digits. Unicodes count as digits."
      ],
      "metadata": {
        "id": "oQ2MeeUcjUvh"
      }
    },
    {
      "cell_type": "code",
      "source": [
        "#isdigit() returns true if all characters in the string are digits\n",
        "#unicode is the encoding standard of assigning each letter, digit, or symbol a unique numeric value\n",
        "nstr1 = \"\\u0030\" #▲\n",
        "nstr2 = \"\\u00B2\" #☻\n",
        "nstr3 = \"\\u00BD\" #½\n",
        "nstr4 = '\\u00B23455' #☻3455\n",
        "nstr5 = \"ABC\"\n",
        "nstr6 = \" \"\n",
        "nstr7 = \"☻\"\n",
        "nstr8 = \"1234567\"\n",
        "nstr9 = \"½\"\n",
        "nstr10 = \"12.34\"\n",
        "\n",
        "print(nstr1.isdigit())\n",
        "print(nstr2.isdigit())\n",
        "print(nstr3.isdigit())\n",
        "print(nstr4.isdigit())\n",
        "print(nstr5.isdigit())\n",
        "print(nstr6.isdigit())\n",
        "print(nstr7.isdigit())\n",
        "print(nstr8.isdigit())\n",
        "print(nstr9.isdigit())\n",
        "print(nstr10.isdigit())"
      ],
      "metadata": {
        "id": "wux_EQikYsma"
      },
      "execution_count": null,
      "outputs": []
    },
    {
      "cell_type": "markdown",
      "source": [
        "### isnumeric()\n",
        "isnumeric() return True if all characters in the string are numeric. Unicodes count as numeric."
      ],
      "metadata": {
        "id": "_RJSoVSejVgQ"
      }
    },
    {
      "cell_type": "code",
      "source": [
        "#isnumeric()\n",
        "nstr1 = \"\\u0030\" #▲\n",
        "nstr2 = \"\\u00B2\" #☻\n",
        "nstr3 = \"\\u00BD\" #½\n",
        "nstr4 = '\\u00B23455' #☻3455\n",
        "nstr5 = \"ABC\"\n",
        "nstr6 = \" \"\n",
        "nstr7 = \"☻\"\n",
        "nstr8 = \"1234567\"\n",
        "nstr9 = \"½\"\n",
        "nstr10 = \"12.34\"\n",
        "\n",
        "print(nstr1.isnumeric())\n",
        "print(nstr2.isnumeric())\n",
        "print(nstr3.isnumeric())\n",
        "print(nstr4.isnumeric())\n",
        "print(nstr5.isnumeric())\n",
        "print(nstr6.isnumeric())\n",
        "print(nstr7.isnumeric())\n",
        "print(nstr8.isnumeric())\n",
        "print(nstr9.isnumeric())\n",
        "print(nstr10.isnumeric())"
      ],
      "metadata": {
        "id": "tC27GhUHdneB"
      },
      "execution_count": null,
      "outputs": []
    },
    {
      "cell_type": "markdown",
      "source": [
        "### isdecimal()\n",
        "isdecimal() return True if the string represents a decimal"
      ],
      "metadata": {
        "id": "q0xcYWRejWUU"
      }
    },
    {
      "cell_type": "code",
      "source": [
        "#isdecimal() returns true if string represents a decimal\n",
        "nstr1 = \"\\u0030\" #▲\n",
        "nstr2 = \"\\u00B2\" #☻\n",
        "nstr3 = \"\\u00BD\" #½\n",
        "nstr4 = '\\u00B23455' #☻3455\n",
        "nstr5 = \"ABC\"\n",
        "nstr6 = \" \"\n",
        "nstr7 = \"☻\"\n",
        "nstr8 = \"1234567\"\n",
        "nstr9 = \"½\"\n",
        "nstr10 = \"12.34\"\n",
        "\n",
        "print(nstr1.isdecimal())\n",
        "print(nstr2.isdecimal())\n",
        "print(nstr3.isdecimal())\n",
        "print(nstr4.isdecimal())\n",
        "print(nstr5.isdecimal())\n",
        "print(nstr6.isdecimal())\n",
        "print(nstr7.isdecimal())\n",
        "print(nstr8.isdecimal())\n",
        "print(nstr9.isdecimal())\n",
        "print(nstr10.isdecimal())"
      ],
      "metadata": {
        "id": "o65uTczPfxva",
        "outputId": "3e96c9ed-059d-4645-beb3-aff2416171db",
        "colab": {
          "base_uri": "https://localhost:8080/"
        }
      },
      "execution_count": 7,
      "outputs": [
        {
          "output_type": "stream",
          "name": "stdout",
          "text": [
            "True\n",
            "False\n",
            "False\n",
            "False\n",
            "False\n",
            "False\n",
            "False\n",
            "True\n",
            "False\n",
            "False\n"
          ]
        }
      ]
    },
    {
      "cell_type": "markdown",
      "source": [
        "### isalnum()\n",
        "isalnum() return True if all characters in the string are alphanumeric."
      ],
      "metadata": {
        "id": "mmTjcwdNjW1A"
      }
    },
    {
      "cell_type": "code",
      "source": [
        "#isalnum() returns true if all characters in the string are alphanumeric\n",
        "anstr1 = \"ABC\"\n",
        "anstr2 = \"THWG!\"\n",
        "anstr3 = \"A Cheese Cat\"\n",
        "anstr4 = \"\\u0030\"\n",
        "anstr5 = \"\\u00B2\"\n",
        "anstr6 = \"\\u00BD\"\n",
        "anstr7 = \"\\u00B23455\"\n",
        "anstr8 = \"☻\"\n",
        "anstr9 = \"½\"\n",
        "anstr10 = \"12.34\"\n",
        "anstr11 = \"1234\"\n",
        "\n",
        "print(anstr1.isalnum())\n",
        "print(anstr2.isalnum())\n",
        "print(anstr3.isalnum())\n",
        "print(anstr4.isalnum())\n",
        "print(anstr5.isalnum())\n",
        "print(anstr6.isalnum())\n",
        "print(anstr7.isalnum())\n",
        "print(anstr8.isalnum())\n",
        "print(anstr9.isalnum())\n",
        "print(anstr10.isalnum())\n",
        "print(anstr11.isalnum())"
      ],
      "metadata": {
        "id": "zMUBCZjOgKwX"
      },
      "execution_count": null,
      "outputs": []
    },
    {
      "cell_type": "markdown",
      "source": [
        "## String Operations"
      ],
      "metadata": {
        "id": "SYuF9GYZh6i4"
      }
    },
    {
      "cell_type": "markdown",
      "source": [
        "### upper()\n",
        "Earlier, we went over lower(), so now let's do upper(). upper() returns the uppercase string from the given string."
      ],
      "metadata": {
        "id": "lpgOhsuhvh0_"
      }
    },
    {
      "cell_type": "code",
      "source": [
        "#We have already gone over .lower() earlier when tokenizing, now let's do .upper()\n",
        "#Your Code Here"
      ],
      "metadata": {
        "id": "FQbktbc9iBAd"
      },
      "execution_count": null,
      "outputs": []
    },
    {
      "cell_type": "markdown",
      "source": [
        "### title()\n",
        "title() returns the titled version of the string, so every first letter of all the words in each string is now capitalized."
      ],
      "metadata": {
        "id": "lc5jcTISvikM"
      }
    },
    {
      "cell_type": "code",
      "source": [
        "#title()\n",
        "strt = \"georgia tech yellow jackets\"\n",
        "#Your Code Here"
      ],
      "metadata": {
        "id": "7KhGN9w9icUm"
      },
      "execution_count": null,
      "outputs": []
    },
    {
      "cell_type": "markdown",
      "source": [
        "### titlecase()\n",
        "Since the title() function sometimes doesn't work properly as shown in the below examples, we write our own titlecase() method to fix that."
      ],
      "metadata": {
        "id": "3bKIVvMfvjF4"
      }
    },
    {
      "cell_type": "code",
      "source": [
        "#titlecase()\n",
        "strtc = \"georgia tech's yellow jackets\"\n",
        "print(strtc.title())\n",
        "print(strtc.capitalize())\n",
        "#we have to define a function to fix this issue\n",
        "#re library is used to check for given patterns in strings\n",
        "import re\n",
        "def titlecase(s):\n",
        "  return re.sub(\n",
        "        r\"[A-Za-z]+('[A-Za-z]+)?\",\n",
        "        lambda word: word.group(0).capitalize(),\n",
        "        s)\n",
        "#Your Code Here"
      ],
      "metadata": {
        "id": "FkoccZyXizFM"
      },
      "execution_count": null,
      "outputs": []
    },
    {
      "cell_type": "markdown",
      "source": [
        "### split()\n",
        "split() returns a list of all the words in a string in order from left to right."
      ],
      "metadata": {
        "id": "w5fMGHZevj14"
      }
    },
    {
      "cell_type": "code",
      "source": [
        "#split()\n",
        "#Your Code Here"
      ],
      "metadata": {
        "id": "gW0IyyOBkIP2"
      },
      "execution_count": null,
      "outputs": []
    },
    {
      "cell_type": "code",
      "source": [
        "#import re\n",
        "#Your Code Here"
      ],
      "metadata": {
        "id": "R7bqH1Qx82Rp"
      },
      "execution_count": null,
      "outputs": []
    },
    {
      "cell_type": "markdown",
      "source": [
        "### splitlines()\n",
        "splitlines() splits a string at any line breaks and returns them in a list."
      ],
      "metadata": {
        "id": "p3XYJg52vk72"
      }
    },
    {
      "cell_type": "code",
      "source": [
        "#splitlines()\n",
        "splistr = \"Georgia Tech\\nYellow Jackets\"\n",
        "#Your Code Here"
      ],
      "metadata": {
        "id": "W6yRBIJ5k05x"
      },
      "execution_count": null,
      "outputs": []
    },
    {
      "cell_type": "markdown",
      "source": [
        "### sub()\n",
        "sub() returns a string where it replaces a string value with another string value."
      ],
      "metadata": {
        "id": "_lSsXxc2vlcA"
      }
    },
    {
      "cell_type": "code",
      "source": [
        "#sub()\n",
        "#import re\n",
        "#Your Code Here"
      ],
      "metadata": {
        "id": "QJzL01_49ama"
      },
      "execution_count": null,
      "outputs": []
    },
    {
      "cell_type": "markdown",
      "source": [
        "### join()\n",
        "join() returns a string that connects a list of strings or every word in a string with a value."
      ],
      "metadata": {
        "id": "HO9KWRk0vl5O"
      }
    },
    {
      "cell_type": "code",
      "source": [
        "#join()\n",
        "joinsplit = data.split()\n",
        "#Your Code Here\n",
        "\n",
        "joinstring = \"abcdef\"\n",
        "#Your Code Here\n",
        "\n",
        "joinstring2 = \" abcdef \"\n",
        "#Your Code Here\n",
        "\n",
        "joinList = ['ab','cd','ef']\n",
        "#Your Code Here"
      ],
      "metadata": {
        "id": "2YqEJO-YlSZK"
      },
      "execution_count": null,
      "outputs": []
    },
    {
      "cell_type": "markdown",
      "source": [
        "### strip()\n",
        "strip() removes any leading and trailing spaces in a string and returns the string."
      ],
      "metadata": {
        "id": "KbXW11BBvmae"
      }
    },
    {
      "cell_type": "code",
      "source": [
        "#strip()\n",
        "stripstr = \"         like          \"\n",
        "#Your Code Here"
      ],
      "metadata": {
        "id": "Deqyz45ip8R5"
      },
      "execution_count": null,
      "outputs": []
    },
    {
      "cell_type": "markdown",
      "source": [
        "### rstrip()\n",
        "rstrip() removes all the occurances of trailing given chars in a string and returns the string."
      ],
      "metadata": {
        "id": "rrB9rD9lvm45"
      }
    },
    {
      "cell_type": "code",
      "source": [
        "#rstrip(values)\n",
        "rstripstr = \"cheese,,,,,ssqqqww.....\"\n",
        "\n",
        "#Your Code Here"
      ],
      "metadata": {
        "id": "_1QXaj44rwZ7"
      },
      "execution_count": null,
      "outputs": []
    },
    {
      "cell_type": "markdown",
      "source": [
        "### find()\n",
        "find() returns the index of the first occurance of a given string in a larger string or in a given range of a larger string."
      ],
      "metadata": {
        "id": "KPm2aCJ-vnUY"
      }
    },
    {
      "cell_type": "code",
      "source": [
        "#find(value, start, end)\n",
        "#Your Code Here"
      ],
      "metadata": {
        "id": "kcuCjB4Fs36L"
      },
      "execution_count": null,
      "outputs": []
    },
    {
      "cell_type": "markdown",
      "source": [
        "### rfind()\n",
        "rfind() returns the index of the last occurance of a given string in a larger string or in a given range of a larger string."
      ],
      "metadata": {
        "id": "a5GzMpwtvn7V"
      }
    },
    {
      "cell_type": "code",
      "source": [
        "#rfind(value, start, end)\n",
        "#Your Code Here"
      ],
      "metadata": {
        "id": "NAjU-exXwR2V"
      },
      "execution_count": null,
      "outputs": []
    },
    {
      "cell_type": "markdown",
      "source": [
        "### replace()\n",
        "replace() find occurances in a string, replaces them, and then returns the string"
      ],
      "metadata": {
        "id": "Hv4c4_aQvoYZ"
      }
    },
    {
      "cell_type": "code",
      "source": [
        "#replace(ogvalue, newvalue)\n",
        "#Your Code Here"
      ],
      "metadata": {
        "id": "cueiI90ywl6a"
      },
      "execution_count": null,
      "outputs": []
    },
    {
      "cell_type": "markdown",
      "source": [
        "### search()\n",
        "search() returns True if there is a match anywhere in the string"
      ],
      "metadata": {
        "id": "_DiugUb2ZNAJ"
      }
    },
    {
      "cell_type": "code",
      "source": [
        "#search()\n",
        "#import re\n",
        "#Your Code Here"
      ],
      "metadata": {
        "id": "Y5RW3HJK8A2Z"
      },
      "execution_count": null,
      "outputs": []
    },
    {
      "cell_type": "markdown",
      "source": [
        "### match()\n",
        "match() return True if there is a match at the beginning of the string"
      ],
      "metadata": {
        "id": "sBCqr4tKZeHs"
      }
    },
    {
      "cell_type": "code",
      "source": [
        "#search()\n",
        "#import re\n",
        "#Your Code Here"
      ],
      "metadata": {
        "id": "ZQSaDp7bZfLp"
      },
      "execution_count": null,
      "outputs": []
    },
    {
      "cell_type": "markdown",
      "source": [
        "Georgia Tech Data Visualization Lab 2022 - SR"
      ],
      "metadata": {
        "id": "4UMdnLg6KAm4"
      }
    }
  ],
  "metadata": {
    "colab": {
      "provenance": [],
      "include_colab_link": true
    },
    "kernelspec": {
      "display_name": "Python 3",
      "name": "python3"
    },
    "language_info": {
      "name": "python"
    }
  },
  "nbformat": 4,
  "nbformat_minor": 0
}